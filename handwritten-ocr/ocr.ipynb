{
 "cells": [
  {
   "metadata": {
    "ExecuteTime": {
     "end_time": "2025-06-28T22:01:29.652540Z",
     "start_time": "2025-06-28T22:01:29.650127Z"
    }
   },
   "cell_type": "code",
   "source": [
    "import torchvision.datasets as datasets\n",
    "from matplotlib import pyplot as plt"
   ],
   "id": "initial_id",
   "outputs": [],
   "execution_count": 8
  },
  {
   "metadata": {},
   "cell_type": "markdown",
   "source": "Source: https://docs.pytorch.org/vision/main/generated/torchvision.datasets.MNIST.html",
   "id": "ed52844e7a239f73"
  },
  {
   "metadata": {
    "ExecuteTime": {
     "end_time": "2025-06-28T21:58:19.504127Z",
     "start_time": "2025-06-28T21:58:06.524815Z"
    }
   },
   "cell_type": "code",
   "source": "mnist_trainset = datasets.MNIST(root='data', train=True, download=True) ",
   "id": "7cc4aa207bcc7b21",
   "outputs": [
    {
     "name": "stdout",
     "output_type": "stream",
     "text": [
      "Downloading http://yann.lecun.com/exdb/mnist/train-images-idx3-ubyte.gz\n",
      "Failed to download (trying next):\n",
      "HTTP Error 404: Not Found\n",
      "\n",
      "Downloading https://ossci-datasets.s3.amazonaws.com/mnist/train-images-idx3-ubyte.gz\n",
      "Downloading https://ossci-datasets.s3.amazonaws.com/mnist/train-images-idx3-ubyte.gz to handwritten-ocr/data/MNIST/raw/train-images-idx3-ubyte.gz\n"
     ]
    },
    {
     "name": "stderr",
     "output_type": "stream",
     "text": [
      "100.0%\n"
     ]
    },
    {
     "name": "stdout",
     "output_type": "stream",
     "text": [
      "Extracting handwritten-ocr/data/MNIST/raw/train-images-idx3-ubyte.gz to handwritten-ocr/data/MNIST/raw\n",
      "\n",
      "Downloading http://yann.lecun.com/exdb/mnist/train-labels-idx1-ubyte.gz\n",
      "Failed to download (trying next):\n",
      "HTTP Error 404: Not Found\n",
      "\n",
      "Downloading https://ossci-datasets.s3.amazonaws.com/mnist/train-labels-idx1-ubyte.gz\n",
      "Downloading https://ossci-datasets.s3.amazonaws.com/mnist/train-labels-idx1-ubyte.gz to handwritten-ocr/data/MNIST/raw/train-labels-idx1-ubyte.gz\n"
     ]
    },
    {
     "name": "stderr",
     "output_type": "stream",
     "text": [
      "100.0%\n"
     ]
    },
    {
     "name": "stdout",
     "output_type": "stream",
     "text": [
      "Extracting handwritten-ocr/data/MNIST/raw/train-labels-idx1-ubyte.gz to handwritten-ocr/data/MNIST/raw\n",
      "\n",
      "Downloading http://yann.lecun.com/exdb/mnist/t10k-images-idx3-ubyte.gz\n",
      "Failed to download (trying next):\n",
      "HTTP Error 404: Not Found\n",
      "\n",
      "Downloading https://ossci-datasets.s3.amazonaws.com/mnist/t10k-images-idx3-ubyte.gz\n",
      "Downloading https://ossci-datasets.s3.amazonaws.com/mnist/t10k-images-idx3-ubyte.gz to handwritten-ocr/data/MNIST/raw/t10k-images-idx3-ubyte.gz\n"
     ]
    },
    {
     "name": "stderr",
     "output_type": "stream",
     "text": [
      "100.0%\n"
     ]
    },
    {
     "name": "stdout",
     "output_type": "stream",
     "text": [
      "Extracting handwritten-ocr/data/MNIST/raw/t10k-images-idx3-ubyte.gz to handwritten-ocr/data/MNIST/raw\n",
      "\n",
      "Downloading http://yann.lecun.com/exdb/mnist/t10k-labels-idx1-ubyte.gz\n",
      "Failed to download (trying next):\n",
      "HTTP Error 404: Not Found\n",
      "\n",
      "Downloading https://ossci-datasets.s3.amazonaws.com/mnist/t10k-labels-idx1-ubyte.gz\n",
      "Downloading https://ossci-datasets.s3.amazonaws.com/mnist/t10k-labels-idx1-ubyte.gz to handwritten-ocr/data/MNIST/raw/t10k-labels-idx1-ubyte.gz\n"
     ]
    },
    {
     "name": "stderr",
     "output_type": "stream",
     "text": [
      "100.0%"
     ]
    },
    {
     "name": "stdout",
     "output_type": "stream",
     "text": [
      "Extracting handwritten-ocr/data/MNIST/raw/t10k-labels-idx1-ubyte.gz to handwritten-ocr/data/MNIST/raw\n",
      "\n"
     ]
    },
    {
     "name": "stderr",
     "output_type": "stream",
     "text": [
      "\n"
     ]
    }
   ],
   "execution_count": 5
  },
  {
   "metadata": {
    "ExecuteTime": {
     "end_time": "2025-06-28T22:05:01.186291Z",
     "start_time": "2025-06-28T22:05:01.035097Z"
    }
   },
   "cell_type": "code",
   "source": [
    "plt.figure(figsize=(10, 4))\n",
    "\n",
    "# Find one example of each digit (0-9)\n",
    "digit_examples = {}\n",
    "for i, (img, label) in enumerate(mnist_trainset):\n",
    "    if label not in digit_examples:\n",
    "        digit_examples[label] = img\n",
    "    if len(digit_examples) == 10:\n",
    "        break\n",
    "\n",
    "# Plot each digit\n",
    "for i, digit in enumerate(sorted(digit_examples.keys())):\n",
    "    plt.subplot(2, 5, i+1)\n",
    "    plt.imshow(digit_examples[digit], cmap='gray')\n",
    "    plt.title(f'Label: {digit}')\n",
    "    plt.axis('off')\n",
    "\n",
    "plt.tight_layout()\n",
    "plt.show()"
   ],
   "id": "d0e41da6a89e08b9",
   "outputs": [
    {
     "data": {
      "text/plain": [
       "<Figure size 1000x400 with 10 Axes>"
      ],
      "image/png": "[encoded data removed]"
     },
     "metadata": {},
     "output_type": "display_data"
    }
   ],
   "execution_count": 13
  },
  {
   "metadata": {},
   "cell_type": "code",
   "outputs": [],
   "execution_count": null,
   "source": "",
   "id": "7ffa06a33c647890"
  }
 ],
 "metadata": {
  "kernelspec": {
   "display_name": "Python 3",
   "language": "python",
   "name": "python3"
  },
  "language_info": {
   "codemirror_mode": {
    "name": "ipython",
    "version": 2
   },
   "file_extension": ".py",
   "mimetype": "text/x-python",
   "name": "python",
   "nbconvert_exporter": "python",
   "pygments_lexer": "ipython2",
   "version": "2.7.6"
  }
 },
 "nbformat": 4,
 "nbformat_minor": 5
}
